{
  "nbformat": 4,
  "nbformat_minor": 0,
  "metadata": {
    "colab": {
      "provenance": [],
      "authorship_tag": "ABX9TyPUC0zZ70VlFpYQg/VbO4cD",
      "include_colab_link": true
    },
    "kernelspec": {
      "name": "python3",
      "display_name": "Python 3"
    },
    "language_info": {
      "name": "python"
    }
  },
  "cells": [
    {
      "cell_type": "markdown",
      "metadata": {
        "id": "view-in-github",
        "colab_type": "text"
      },
      "source": [
        "<a href=\"https://colab.research.google.com/github/SergioPedroso/Redes-Neurais/blob/main/Aula_4_Redes_Neurais_Lab_Treinamento_do_Perceptron.ipynb\" target=\"_parent\"><img src=\"https://colab.research.google.com/assets/colab-badge.svg\" alt=\"Open In Colab\"/></a>"
      ]
    },
    {
      "cell_type": "markdown",
      "source": [
        "**Função Lógica AND**"
      ],
      "metadata": {
        "id": "UBX4dOI7BE70"
      }
    },
    {
      "cell_type": "code",
      "source": [
        "# Importa a biblioteca numpy para a manipulação de arrays e matrizes, devido à melhor eficiência da bilbioteca\n",
        "import numpy as np\n",
        "import matplotlib.pyplot as plt"
      ],
      "metadata": {
        "id": "b5QN1V1gBQc-"
      },
      "execution_count": 1,
      "outputs": []
    },
    {
      "cell_type": "code",
      "source": [
        "## DECLARAÇÃO DA FUNÇÃO\n",
        "# Cria o perceptron\n",
        "def yperceptron(W,b,X):\n",
        "  # Calcula a função aditiva, multiplicando a matriz de peso (W) pela matriz de entradas\n",
        "  u = np.dot(W,X) + b\n",
        "  # Loop for para percorrer a matriz e aplicar a função de ativação, neste caso sendo a função degrau/limiar\n",
        "  for i in range(u.shape[1]):\n",
        "      if u[0, i] >= 0:\n",
        "          u[0, i] = 1\n",
        "      else:\n",
        "          u[0, i] = 0\n",
        "  return u\n",
        "\n",
        "\n",
        "# Função de treinamento do Perceptron\n",
        "def treina_perceptron(W,b,X,yd,alfa,maxepocas,tol):\n",
        "  epoca = 1\n",
        "  N = X.shape[1] # Número de amostras na matriz de dados\n",
        "  print(f'N = {N}')\n",
        "  SEQ = tol # Declaração necessária para ultrapassar primeira validação do loop while abaixo\n",
        "  vetor_seq = []\n",
        "  while (epoca <= maxepocas and SEQ >= tol):\n",
        "    SEQ = 0\n",
        "    for i in range(0,N):\n",
        "      y = yperceptron(W,b,X[:,i])\n",
        "      erro = yd[0,i] - y\n",
        "\n",
        "      # Regra delta/Gradiente descendente\n",
        "      W = W + alfa * erro * X[:,i].T # Calcular novos pesos mais acertivos para W (.T faz o transposto da matriz)\n",
        "      b = b + alfa * erro # Calcular novo bias mais acertivo\n",
        "      SEQ = SEQ + erro**2 # Somátorio dos erros quadráticos\n",
        "    print(f'SEQ = {SEQ[0]} na Epoca {epoca}')\n",
        "    epoca = epoca + 1\n",
        "    vetor_seq.append(SEQ[0])\n",
        "  W = W.reshape(1, 2)\n",
        "  return [W,b,vetor_seq]\n"
      ],
      "metadata": {
        "id": "cwulnqgKA7DS"
      },
      "execution_count": 2,
      "outputs": []
    },
    {
      "cell_type": "code",
      "source": [
        "## DECLARAÇÃO DAS VARIÁVEIS\n",
        "# A variável X é a matriz com as entradas do Perceptron\n",
        "X = np.array([[0,1,0,1],[0,0,1,1]])\n",
        "print('Número de linhas de X = ',X.shape[0])\n",
        "print('Número de colunas de X = ',X.shape[1],'\\n')\n",
        "\n",
        "yd = np.array([[0.,0.,0.,1.]])\n",
        "\n",
        "alfa = 1.2 # O valor de alfa dita o passo em que os pesos vão sendo ajustados, ele é definido empiricamente\n",
        "maxepocas = 10\n",
        "tol = 0.001 # tol é a tolerancia máxima estabelecida para o erro\n",
        "\n",
        "W = np.array([np.random.rand(1,2)])*2-1 # A variável W é a matriz com os pesos do Perceptron com seus valores escolhidos de forma randômica entre -1 e 1 (*2-1 é a operação para mover o range do rand de 0 a 1 para -1 a 1)\n",
        "\n",
        "# A variável b é o bias, que tem o objetivo variar a influência das entradas\n",
        "b = 1\n",
        "\n",
        "W,b,vetor_seq = treina_perceptron(W,b,X,yd,alfa,maxepocas,tol)"
      ],
      "metadata": {
        "colab": {
          "base_uri": "https://localhost:8080/"
        },
        "id": "WjhsJQZ-BTNi",
        "outputId": "2d59048b-b8e0-4da5-998e-18a707053739"
      },
      "execution_count": 3,
      "outputs": [
        {
          "output_type": "stream",
          "name": "stdout",
          "text": [
            "Número de linhas de X =  2\n",
            "Número de colunas de X =  4 \n",
            "\n",
            "N = 4\n",
            "SEQ = [3.] na Epoca 1\n",
            "SEQ = [2.] na Epoca 2\n",
            "SEQ = [3.] na Epoca 3\n",
            "SEQ = [2.] na Epoca 4\n",
            "SEQ = [2.] na Epoca 5\n",
            "SEQ = [3.] na Epoca 6\n",
            "SEQ = [2.] na Epoca 7\n",
            "SEQ = [1.] na Epoca 8\n",
            "SEQ = [0.] na Epoca 9\n"
          ]
        }
      ]
    },
    {
      "cell_type": "code",
      "source": [
        "## Plota SEQ\n",
        "plt.plot(vetor_seq,'r-')\n",
        "plt.xlabel('Epoca')\n",
        "plt.ylabel('SEQ')\n",
        "plt.title('Somatório dos Erros Quadráticos')\n",
        "plt.show()"
      ],
      "metadata": {
        "colab": {
          "base_uri": "https://localhost:8080/",
          "height": 472
        },
        "id": "Ltl83aCUHiiX",
        "outputId": "9b3bdfaa-8f13-4a70-b777-a490367956aa"
      },
      "execution_count": 4,
      "outputs": [
        {
          "output_type": "display_data",
          "data": {
            "text/plain": [
              "<Figure size 640x480 with 1 Axes>"
            ],
            "image/png": "[encoded data removed]"
          },
          "metadata": {}
        }
      ]
    },
    {
      "cell_type": "code",
      "source": [
        "# Cálculo da saída do Perceptron\n",
        "y = yperceptron(W,b,X)\n",
        "print(y)"
      ],
      "metadata": {
        "colab": {
          "base_uri": "https://localhost:8080/"
        },
        "id": "OpFT0OamBYKB",
        "outputId": "e4fa431f-4be8-4761-f6be-806b949dc60d"
      },
      "execution_count": 5,
      "outputs": [
        {
          "output_type": "stream",
          "name": "stdout",
          "text": [
            "[[0. 0. 0. 1.]]\n"
          ]
        }
      ]
    },
    {
      "cell_type": "markdown",
      "source": [
        "**Função Lógica OR**"
      ],
      "metadata": {
        "id": "a2rJhLlESeRp"
      }
    },
    {
      "cell_type": "code",
      "source": [
        "# Importa a biblioteca numpy para a manipulação de arrays e matrizes, devido à melhor eficiência da bilbioteca\n",
        "import numpy as np\n",
        "import matplotlib.pyplot as plt"
      ],
      "metadata": {
        "id": "UJzmZiJjSg60"
      },
      "execution_count": 6,
      "outputs": []
    },
    {
      "cell_type": "code",
      "source": [
        "## DECLARAÇÃO DA FUNÇÃO\n",
        "# Cria o perceptron\n",
        "def yperceptron(W,b,X):\n",
        "  # Calcula a função aditiva, multiplicando a matriz de peso (W) pela matriz de entradas\n",
        "  u = np.dot(W,X) + b\n",
        "  # Loop for para percorrer a matriz e aplicar a função de ativação, neste caso sendo a função degrau/limiar\n",
        "  for i in range(u.shape[1]):\n",
        "      if u[0, i] >= 0:\n",
        "          u[0, i] = 1\n",
        "      else:\n",
        "          u[0, i] = 0\n",
        "  return u\n",
        "\n",
        "\n",
        "# Função de treinamento do Perceptron\n",
        "def treina_perceptron(W,b,X,yd,alfa,maxepocas,tol):\n",
        "  epoca = 1\n",
        "  N = X.shape[1] # Número de amostras na matriz de dados\n",
        "  print(f'N = {N}')\n",
        "  SEQ = tol # Declaração necessária para ultrapassar primeira validação do loop while abaixo\n",
        "  vetor_seq = []\n",
        "  while (epoca <= maxepocas and SEQ >= tol):\n",
        "    SEQ = 0\n",
        "    for i in range(0,N):\n",
        "      y = yperceptron(W,b,X[:,i])\n",
        "      erro = yd[0,i] - y\n",
        "\n",
        "      # Regra delta/Gradiente descendente\n",
        "      W = W + alfa * erro * X[:,i].T # Calcular novos pesos mais acertivos para W (.T faz o transposto da matriz)\n",
        "      b = b + alfa * erro # Calcular novo bias mais acertivo\n",
        "      SEQ = SEQ + erro**2 # Somátorio dos erros quadráticos\n",
        "    print(f'SEQ = {SEQ[0]} na Epoca {epoca}')\n",
        "    epoca = epoca + 1\n",
        "    vetor_seq.append(SEQ[0])\n",
        "  W = W.reshape(1, 2)\n",
        "  return [W,b,vetor_seq]"
      ],
      "metadata": {
        "id": "0Lhjyb8GSg60"
      },
      "execution_count": 7,
      "outputs": []
    },
    {
      "cell_type": "code",
      "source": [
        "## DECLARAÇÃO DAS VARIÁVEIS\n",
        "# A variável X é a matriz com as entradas do Perceptron\n",
        "X = np.array([[0,1,0,1],[0,0,1,1]])\n",
        "print('Número de linhas de X = ',X.shape[0])\n",
        "print('Número de colunas de X = ',X.shape[1],'\\n')\n",
        "\n",
        "yd = np.array([[0.,1.,1.,1.]])\n",
        "\n",
        "alfa = 1.2 # O valor de alfa dita o passo em que os pesos vão sendo ajustados, ele é definido empiricamente\n",
        "maxepocas = 10\n",
        "tol = 0.001 # tol é a tolerancia máxima estabelecida para o erro\n",
        "\n",
        "W = np.array([np.random.rand(1,2)])*2-1 # A variável W é a matriz com os pesos do Perceptron com seus valores escolhidos de forma randômica entre -1 e 1 (*2-1 é a operação para mover o range do rand de 0 a 1 para -1 a 1)\n",
        "\n",
        "# A variável b é o bias, que tem o objetivo variar a influência das entradas\n",
        "b = 1\n",
        "\n",
        "W,b,vetor_seq = treina_perceptron(W,b,X,yd,alfa,maxepocas,tol)"
      ],
      "metadata": {
        "colab": {
          "base_uri": "https://localhost:8080/"
        },
        "outputId": "e96ff67f-588a-46c1-e0f5-5a292f26738c",
        "id": "3EkPic8aSg61"
      },
      "execution_count": 8,
      "outputs": [
        {
          "output_type": "stream",
          "name": "stdout",
          "text": [
            "Número de linhas de X =  2\n",
            "Número de colunas de X =  4 \n",
            "\n",
            "N = 4\n",
            "SEQ = [2.] na Epoca 1\n",
            "SEQ = [2.] na Epoca 2\n",
            "SEQ = [1.] na Epoca 3\n",
            "SEQ = [0.] na Epoca 4\n"
          ]
        }
      ]
    },
    {
      "cell_type": "code",
      "source": [
        "## Plota SEQ\n",
        "plt.plot(vetor_seq,'b-')\n",
        "plt.xlabel('Epoca')\n",
        "plt.ylabel('SEQ')\n",
        "plt.title('Somatório dos Erros Quadráticos')\n",
        "plt.show()"
      ],
      "metadata": {
        "colab": {
          "base_uri": "https://localhost:8080/",
          "height": 472
        },
        "outputId": "15fd4377-0bee-48b7-a9f5-3918f5d63305",
        "id": "-ATHZBr_Sg62"
      },
      "execution_count": 9,
      "outputs": [
        {
          "output_type": "display_data",
          "data": {
            "text/plain": [
              "<Figure size 640x480 with 1 Axes>"
            ],
            "image/png": "[encoded data removed]"
          },
          "metadata": {}
        }
      ]
    },
    {
      "cell_type": "code",
      "source": [
        "# Cálculo da saída do Perceptron\n",
        "y = yperceptron(W,b,X)\n",
        "print(y)"
      ],
      "metadata": {
        "colab": {
          "base_uri": "https://localhost:8080/"
        },
        "outputId": "3d61f12d-08f6-4d7c-8b90-ba84912bf096",
        "id": "uq18njUGSg62"
      },
      "execution_count": 10,
      "outputs": [
        {
          "output_type": "stream",
          "name": "stdout",
          "text": [
            "[[0. 1. 1. 1.]]\n"
          ]
        }
      ]
    },
    {
      "cell_type": "code",
      "source": [],
      "metadata": {
        "id": "ZvUgqlQhVn8m"
      },
      "execution_count": null,
      "outputs": []
    }
  ]
}